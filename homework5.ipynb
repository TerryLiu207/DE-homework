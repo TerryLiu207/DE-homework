{
 "cells": [
  {
   "cell_type": "code",
   "execution_count": 4,
   "id": "fe9c9c65-5c64-4215-88ef-64109618b007",
   "metadata": {},
   "outputs": [],
   "source": [
    "import pyspark\n",
    "import pandas as pd\n",
    "from pyspark.sql import SparkSession"
   ]
  },
  {
   "cell_type": "code",
   "execution_count": 19,
   "id": "1ef0d8cc-f826-4c36-8eb9-a66968fb72ea",
   "metadata": {},
   "outputs": [
    {
     "name": "stdout",
     "output_type": "stream",
     "text": [
      "3.5.0\n"
     ]
    }
   ],
   "source": [
    "import pyspark\n",
    "print(pyspark.__version__)"
   ]
  },
  {
   "cell_type": "code",
   "execution_count": 5,
   "id": "e8d54624-ed0d-4af3-af6e-e0e00a47f73f",
   "metadata": {},
   "outputs": [
    {
     "data": {
      "text/plain": [
       "'3.5.1'"
      ]
     },
     "execution_count": 5,
     "metadata": {},
     "output_type": "execute_result"
    }
   ],
   "source": [
    "from pyspark.sql import SparkSession\n",
    "\n",
    "spark = SparkSession.builder \\\n",
    "    .appName(\"LocalSparkSession\") \\\n",
    "    .getOrCreate()\n",
    "spark.version\n"
   ]
  },
  {
   "cell_type": "code",
   "execution_count": 6,
   "id": "4327ad03-f1d5-405e-a48a-b90581cbed0f",
   "metadata": {},
   "outputs": [],
   "source": [
    "spark = SparkSession.builder \\\n",
    "    .master(\"local[*]\") \\\n",
    "    .appName('test') \\\n",
    "    .getOrCreate()"
   ]
  },
  {
   "cell_type": "code",
   "execution_count": 74,
   "id": "93669c48-b4dc-4f75-9f47-8048fa28eccb",
   "metadata": {},
   "outputs": [
    {
     "name": "stdout",
     "output_type": "stream",
     "text": [
      "+--------------------+-------------------+-------------------+------------+------------+-------+----------------------+\n",
      "|dispatching_base_num|    pickup_datetime|   dropOff_datetime|PUlocationID|DOlocationID|SR_Flag|Affiliated_base_number|\n",
      "+--------------------+-------------------+-------------------+------------+------------+-------+----------------------+\n",
      "|              B00009|2019-10-01 00:23:00|2019-10-01 00:35:00|         264|         264|   NULL|                B00009|\n",
      "|              B00013|2019-10-01 00:11:29|2019-10-01 00:13:22|         264|         264|   NULL|                B00013|\n",
      "|              B00014|2019-10-01 00:11:43|2019-10-01 00:37:20|         264|         264|   NULL|                B00014|\n",
      "|              B00014|2019-10-01 00:56:29|2019-10-01 00:57:47|         264|         264|   NULL|                B00014|\n",
      "|              B00014|2019-10-01 00:23:09|2019-10-01 00:28:27|         264|         264|   NULL|                B00014|\n",
      "|     B00021         |2019-10-01 00:00:48|2019-10-01 00:07:12|         129|         129|   NULL|       B00021         |\n",
      "|     B00021         |2019-10-01 00:47:23|2019-10-01 00:53:25|          57|          57|   NULL|       B00021         |\n",
      "|     B00021         |2019-10-01 00:10:06|2019-10-01 00:19:50|         173|         173|   NULL|       B00021         |\n",
      "|     B00021         |2019-10-01 00:51:37|2019-10-01 01:06:14|         226|         226|   NULL|       B00021         |\n",
      "|     B00021         |2019-10-01 00:28:23|2019-10-01 00:34:33|          56|          56|   NULL|       B00021         |\n",
      "|     B00021         |2019-10-01 00:31:17|2019-10-01 00:51:52|          82|          82|   NULL|       B00021         |\n",
      "|              B00037|2019-10-01 00:07:41|2019-10-01 00:15:23|         264|          71|   NULL|                B00037|\n",
      "|              B00037|2019-10-01 00:13:38|2019-10-01 00:25:51|         264|          39|   NULL|                B00037|\n",
      "|              B00037|2019-10-01 00:42:40|2019-10-01 00:53:47|         264|         188|   NULL|                B00037|\n",
      "|              B00037|2019-10-01 00:58:46|2019-10-01 01:10:11|         264|          91|   NULL|                B00037|\n",
      "|              B00037|2019-10-01 00:09:49|2019-10-01 00:14:37|         264|          71|   NULL|                B00037|\n",
      "|              B00037|2019-10-01 00:22:35|2019-10-01 00:36:53|         264|          35|   NULL|                B00037|\n",
      "|              B00037|2019-10-01 00:54:27|2019-10-01 01:03:37|         264|          61|   NULL|                B00037|\n",
      "|              B00037|2019-10-01 00:08:12|2019-10-01 00:28:47|         264|         198|   NULL|                B00037|\n",
      "|              B00053|2019-10-01 00:05:24|2019-10-01 00:53:03|         264|         264|   NULL|                  #N/A|\n",
      "+--------------------+-------------------+-------------------+------------+------------+-------+----------------------+\n",
      "only showing top 20 rows\n",
      "\n"
     ]
    }
   ],
   "source": [
    "df=spark.read\\\n",
    "    .option(\"header\", \"true\") \\\n",
    "    .csv('fhv_tripdata_2019-10.csv')\n",
    "df.show()"
   ]
  },
  {
   "cell_type": "code",
   "execution_count": 75,
   "id": "fed58685-fe99-4b0d-a390-316b48636cf7",
   "metadata": {},
   "outputs": [
    {
     "data": {
      "text/plain": [
       "StructType([StructField('dispatching_base_num', StringType(), True), StructField('pickup_datetime', StringType(), True), StructField('dropOff_datetime', StringType(), True), StructField('PUlocationID', DoubleType(), True), StructField('DOlocationID', DoubleType(), True), StructField('SR_Flag', DoubleType(), True), StructField('Affiliated_base_number', StringType(), True)])"
      ]
     },
     "execution_count": 75,
     "metadata": {},
     "output_type": "execute_result"
    }
   ],
   "source": [
    "df_pandas = pd.read_csv('fhv_tripdata_2019-10.csv')\n",
    "spark.createDataFrame(df_pandas).schema"
   ]
  },
  {
   "cell_type": "code",
   "execution_count": 76,
   "id": "11372718-ad43-4eab-80ba-5395f1e7f10d",
   "metadata": {},
   "outputs": [],
   "source": [
    "from pyspark.sql import types\n",
    "schema = types.StructType([\n",
    "    types.StructField('dispatching_base_num', types.StringType(), True),\n",
    "    types.StructField('pickup_datetime', types.TimestampType(), True),\n",
    "    types.StructField('dropOff_datetime', types.TimestampType(), True),\n",
    "    types.StructField('PUlocationID', types.IntegerType(), True),\n",
    "    types.StructField('DOlocationID', types.IntegerType(), True),\n",
    "    types.StructField('SR_Flag', types.StringType(), True),\n",
    "    types.StructField('Affiliated_base_number', types.StringType(), True)\n",
    "])"
   ]
  },
  {
   "cell_type": "code",
   "execution_count": 82,
   "id": "33585370-0e85-4874-a322-91b198c2a4c9",
   "metadata": {},
   "outputs": [
    {
     "name": "stdout",
     "output_type": "stream",
     "text": [
      "+--------------------+-------------------+-------------------+------------+------------+-------+----------------------+\n",
      "|dispatching_base_num|    pickup_datetime|   dropOff_datetime|PUlocationID|DOlocationID|SR_Flag|Affiliated_base_number|\n",
      "+--------------------+-------------------+-------------------+------------+------------+-------+----------------------+\n",
      "|              B00009|2019-10-01 00:23:00|2019-10-01 00:35:00|         264|         264|   NULL|                B00009|\n",
      "|              B00013|2019-10-01 00:11:29|2019-10-01 00:13:22|         264|         264|   NULL|                B00013|\n",
      "|              B00014|2019-10-01 00:11:43|2019-10-01 00:37:20|         264|         264|   NULL|                B00014|\n",
      "|              B00014|2019-10-01 00:56:29|2019-10-01 00:57:47|         264|         264|   NULL|                B00014|\n",
      "|              B00014|2019-10-01 00:23:09|2019-10-01 00:28:27|         264|         264|   NULL|                B00014|\n",
      "|     B00021         |2019-10-01 00:00:48|2019-10-01 00:07:12|         129|         129|   NULL|       B00021         |\n",
      "|     B00021         |2019-10-01 00:47:23|2019-10-01 00:53:25|          57|          57|   NULL|       B00021         |\n",
      "|     B00021         |2019-10-01 00:10:06|2019-10-01 00:19:50|         173|         173|   NULL|       B00021         |\n",
      "|     B00021         |2019-10-01 00:51:37|2019-10-01 01:06:14|         226|         226|   NULL|       B00021         |\n",
      "|     B00021         |2019-10-01 00:28:23|2019-10-01 00:34:33|          56|          56|   NULL|       B00021         |\n",
      "|     B00021         |2019-10-01 00:31:17|2019-10-01 00:51:52|          82|          82|   NULL|       B00021         |\n",
      "|              B00037|2019-10-01 00:07:41|2019-10-01 00:15:23|         264|          71|   NULL|                B00037|\n",
      "|              B00037|2019-10-01 00:13:38|2019-10-01 00:25:51|         264|          39|   NULL|                B00037|\n",
      "|              B00037|2019-10-01 00:42:40|2019-10-01 00:53:47|         264|         188|   NULL|                B00037|\n",
      "|              B00037|2019-10-01 00:58:46|2019-10-01 01:10:11|         264|          91|   NULL|                B00037|\n",
      "|              B00037|2019-10-01 00:09:49|2019-10-01 00:14:37|         264|          71|   NULL|                B00037|\n",
      "|              B00037|2019-10-01 00:22:35|2019-10-01 00:36:53|         264|          35|   NULL|                B00037|\n",
      "|              B00037|2019-10-01 00:54:27|2019-10-01 01:03:37|         264|          61|   NULL|                B00037|\n",
      "|              B00037|2019-10-01 00:08:12|2019-10-01 00:28:47|         264|         198|   NULL|                B00037|\n",
      "|              B00053|2019-10-01 00:05:24|2019-10-01 00:53:03|         264|         264|   NULL|                  #N/A|\n",
      "+--------------------+-------------------+-------------------+------------+------------+-------+----------------------+\n",
      "only showing top 20 rows\n",
      "\n"
     ]
    }
   ],
   "source": [
    "df = spark.read \\\n",
    "    .option(\"header\", \"true\") \\\n",
    "    .schema(schema) \\\n",
    "    .csv('fhv_tripdata_2019-10.csv')\n",
    "df.show()"
   ]
  },
  {
   "cell_type": "code",
   "execution_count": 83,
   "id": "3d92778f-4a19-40aa-ac67-82266f9cecaf",
   "metadata": {},
   "outputs": [
    {
     "name": "stdout",
     "output_type": "stream",
     "text": [
      "+--------------------+-------------------+-------------------+------------+------------+-------+----------------------+\n",
      "|dispatching_base_num|    pickup_datetime|   dropOff_datetime|PUlocationID|DOlocationID|SR_Flag|Affiliated_base_number|\n",
      "+--------------------+-------------------+-------------------+------------+------------+-------+----------------------+\n",
      "|              B03016|2019-10-03 21:44:14|2019-10-03 21:57:46|         264|         174|   NULL|                B03016|\n",
      "|              B00900|2019-10-03 01:21:42|2019-10-03 01:25:11|         264|         216|   NULL|                B00900|\n",
      "|              B02060|2019-10-01 13:49:59|2019-10-01 14:39:57|         163|           1|   NULL|                B02060|\n",
      "|              B00802|2019-10-03 10:13:27|2019-10-03 10:25:23|         264|          11|   NULL|                B00802|\n",
      "|              B00310|2019-10-03 06:19:26|2019-10-03 06:31:54|         264|          20|   NULL|                B00310|\n",
      "|              B02846|2019-10-01 17:15:08|2019-10-01 18:20:38|         264|          76|   NULL|                B02872|\n",
      "|              B02735|2019-10-03 12:53:11|2019-10-03 13:50:59|         264|          51|   NULL|                B02835|\n",
      "|              B02437|2019-10-03 10:14:25|2019-10-03 10:16:31|         264|         248|   NULL|                B02437|\n",
      "|              B02509|2019-10-04 10:52:31|2019-10-04 11:13:57|         264|         168|   NULL|                B02509|\n",
      "|              B01016|2019-10-03 08:16:55|2019-10-03 08:17:57|         264|          76|   NULL|                B01016|\n",
      "|              B01259|2019-10-03 07:56:47|2019-10-03 08:02:03|         264|         217|   NULL|                B01259|\n",
      "|              B01717|2019-10-02 09:14:10|2019-10-02 09:34:38|         264|         250|   NULL|                B01717|\n",
      "|              B01061|2019-10-02 08:12:53|2019-10-02 08:31:19|         264|         147|   NULL|                B01061|\n",
      "|              B02550|2019-10-01 16:33:18|2019-10-01 16:55:46|         264|         254|   NULL|                B02550|\n",
      "|              B00350|2019-10-02 14:59:56|2019-10-02 15:06:34|         264|          92|   NULL|                B00350|\n",
      "|              B01065|2019-10-04 03:37:04|2019-10-04 03:46:23|         264|          74|   NULL|                B01065|\n",
      "|              B02243|2019-10-01 16:19:00|2019-10-01 16:39:00|          33|          26|   NULL|                LX-191|\n",
      "|              B02157|2019-10-03 13:51:56|2019-10-03 15:21:50|         264|         265|   NULL|                B02157|\n",
      "|              B01061|2019-10-02 22:15:43|2019-10-02 22:17:31|         264|         213|   NULL|                B01061|\n",
      "|              B01506|2019-10-01 13:40:25|2019-10-01 13:47:27|         223|         223|   NULL|                B01506|\n",
      "+--------------------+-------------------+-------------------+------------+------------+-------+----------------------+\n",
      "only showing top 20 rows\n",
      "\n"
     ]
    }
   ],
   "source": [
    "df = df.repartition(6)\n",
    "df.show()"
   ]
  },
  {
   "cell_type": "code",
   "execution_count": 48,
   "id": "698fa0fe-55e5-431a-93ba-0e4a932440ba",
   "metadata": {},
   "outputs": [],
   "source": [
    "df.write.parquet('fhvhv/2019/01/',mode='overwrite')"
   ]
  },
  {
   "cell_type": "code",
   "execution_count": 49,
   "id": "38fe7454-d02b-4eb9-a209-cbbb8b4c343f",
   "metadata": {},
   "outputs": [],
   "source": [
    "df = spark.read.parquet('fhvhv/2019/01/')"
   ]
  },
  {
   "cell_type": "code",
   "execution_count": 50,
   "id": "309f7d09-b2ef-4193-a45b-3d2ed631ff1f",
   "metadata": {},
   "outputs": [
    {
     "name": "stdout",
     "output_type": "stream",
     "text": [
      "root\n",
      " |-- hvfhs_license_num: string (nullable = true)\n",
      " |-- dispatching_base_num: string (nullable = true)\n",
      " |-- pickup_datetime: timestamp (nullable = true)\n",
      " |-- dropOff_datetime: timestamp (nullable = true)\n",
      " |-- PUlocationID: integer (nullable = true)\n",
      " |-- DOlocationID: integer (nullable = true)\n",
      " |-- SR_Flag: string (nullable = true)\n",
      "\n"
     ]
    }
   ],
   "source": [
    "df.printSchema()"
   ]
  },
  {
   "cell_type": "code",
   "execution_count": 84,
   "id": "b427a64d-40ee-4225-a51e-7c44086c733c",
   "metadata": {},
   "outputs": [
    {
     "name": "stdout",
     "output_type": "stream",
     "text": [
      "+--------------------+-------------------+-------------------+------------+------------+-------+----------------------+\n",
      "|dispatching_base_num|    pickup_datetime|   dropOff_datetime|PUlocationID|DOlocationID|SR_Flag|Affiliated_base_number|\n",
      "+--------------------+-------------------+-------------------+------------+------------+-------+----------------------+\n",
      "|              B03016|2019-10-03 21:44:14|2019-10-03 21:57:46|         264|         174|   NULL|                B03016|\n",
      "|              B00900|2019-10-03 01:21:42|2019-10-03 01:25:11|         264|         216|   NULL|                B00900|\n",
      "|              B02060|2019-10-01 13:49:59|2019-10-01 14:39:57|         163|           1|   NULL|                B02060|\n",
      "|              B00802|2019-10-03 10:13:27|2019-10-03 10:25:23|         264|          11|   NULL|                B00802|\n",
      "|              B00310|2019-10-03 06:19:26|2019-10-03 06:31:54|         264|          20|   NULL|                B00310|\n",
      "|              B02846|2019-10-01 17:15:08|2019-10-01 18:20:38|         264|          76|   NULL|                B02872|\n",
      "|              B02735|2019-10-03 12:53:11|2019-10-03 13:50:59|         264|          51|   NULL|                B02835|\n",
      "|              B02437|2019-10-03 10:14:25|2019-10-03 10:16:31|         264|         248|   NULL|                B02437|\n",
      "|              B02509|2019-10-04 10:52:31|2019-10-04 11:13:57|         264|         168|   NULL|                B02509|\n",
      "|              B01016|2019-10-03 08:16:55|2019-10-03 08:17:57|         264|          76|   NULL|                B01016|\n",
      "|              B01259|2019-10-03 07:56:47|2019-10-03 08:02:03|         264|         217|   NULL|                B01259|\n",
      "|              B01717|2019-10-02 09:14:10|2019-10-02 09:34:38|         264|         250|   NULL|                B01717|\n",
      "|              B01061|2019-10-02 08:12:53|2019-10-02 08:31:19|         264|         147|   NULL|                B01061|\n",
      "|              B02550|2019-10-01 16:33:18|2019-10-01 16:55:46|         264|         254|   NULL|                B02550|\n",
      "|              B00350|2019-10-02 14:59:56|2019-10-02 15:06:34|         264|          92|   NULL|                B00350|\n",
      "|              B01065|2019-10-04 03:37:04|2019-10-04 03:46:23|         264|          74|   NULL|                B01065|\n",
      "|              B02243|2019-10-01 16:19:00|2019-10-01 16:39:00|          33|          26|   NULL|                LX-191|\n",
      "|              B02157|2019-10-03 13:51:56|2019-10-03 15:21:50|         264|         265|   NULL|                B02157|\n",
      "|              B01061|2019-10-02 22:15:43|2019-10-02 22:17:31|         264|         213|   NULL|                B01061|\n",
      "|              B01506|2019-10-01 13:40:25|2019-10-01 13:47:27|         223|         223|   NULL|                B01506|\n",
      "+--------------------+-------------------+-------------------+------------+------------+-------+----------------------+\n",
      "only showing top 20 rows\n",
      "\n"
     ]
    }
   ],
   "source": [
    "from pyspark.sql import functions as F\n",
    "df.show()"
   ]
  },
  {
   "cell_type": "code",
   "execution_count": 63,
   "id": "a1d6354b-a5f4-4efc-b6d1-6019be86d4f8",
   "metadata": {},
   "outputs": [
    {
     "data": {
      "text/plain": [
       "62610"
      ]
     },
     "execution_count": 63,
     "metadata": {},
     "output_type": "execute_result"
    }
   ],
   "source": [
    "df \\\n",
    "    .withColumn('dropoff_date', F.to_date(df.dropOff_datetime)) \\\n",
    "    .withColumn('pickup_date', F.to_date(df.pickup_datetime)) \\\n",
    "    .select('pickup_date', 'dropoff_date', 'PULocationID', 'DOLocationID') \\\n",
    "    .filter(\"pickup_date = '2019-10-15'\") \\\n",
    "    .count()\n",
    "\n"
   ]
  },
  {
   "cell_type": "code",
   "execution_count": 85,
   "id": "5f7718c3-faeb-4242-a4c2-8bf4b1a0ac6e",
   "metadata": {},
   "outputs": [
    {
     "name": "stdout",
     "output_type": "stream",
     "text": [
      "+-----------+-------------------+------------+-------------------+------------------+\n",
      "|pickup_date|    pickup_datetime|dropOff_time|   dropOff_datetime|   time_difference|\n",
      "+-----------+-------------------+------------+-------------------+------------------+\n",
      "| 2019-10-28|2019-10-28 09:00:00|  3844416600|2091-10-28 09:30:00|          631152.5|\n",
      "| 2019-10-11|2019-10-11 18:00:00|  3842980200|2091-10-11 18:30:00|          631152.5|\n",
      "| 2019-10-31|2019-10-31 23:46:33|  1888200780|2029-11-01 00:13:00| 87672.44083333333|\n",
      "| 2019-10-01|2019-10-01 21:43:42|  1822441523|2027-10-01 21:45:23| 70128.02805555555|\n",
      "| 2019-10-17|2019-10-17 14:00:00|  1602993600|2020-10-18 00:00:00|            8794.0|\n",
      "| 2019-10-26|2019-10-26 21:26:00|  1603762560|2020-10-26 21:36:00| 8784.166666666666|\n",
      "| 2019-10-30|2019-10-30 12:30:04|  1577728928|2019-12-30 13:02:08|1465.5344444444445|\n",
      "| 2019-10-25|2019-10-25 07:04:57|  1575809673|2019-12-08 07:54:33|1057.8266666666666|\n",
      "| 2019-10-25|2019-10-25 07:04:57|  1575807671|2019-12-08 07:21:11|1057.2705555555556|\n",
      "| 2019-10-01|2019-10-01 13:47:17|  1572812428|2019-11-03 15:20:28| 794.5530555555556|\n",
      "| 2019-10-01|2019-10-01 07:21:12|  1572788661|2019-11-03 08:44:21| 794.3858333333334|\n",
      "| 2019-10-01|2019-10-01 13:41:00|  1572811131|2019-11-03 14:58:51|          794.2975|\n",
      "| 2019-10-01|2019-10-01 18:43:20|  1572828193|2019-11-03 19:43:13| 793.9980555555555|\n",
      "| 2019-10-01|2019-10-01 18:43:46|  1572828184|2019-11-03 19:43:04| 793.9883333333333|\n",
      "| 2019-10-01|2019-10-01 07:07:09|  1572785926|2019-11-03 07:58:46| 793.8602777777778|\n",
      "| 2019-10-01|2019-10-01 14:49:28|  1572813487|2019-11-03 15:38:07| 793.8108333333333|\n",
      "| 2019-10-01|2019-10-01 05:36:30|  1572780216|2019-11-03 06:23:36|           793.785|\n",
      "| 2019-10-01|2019-10-01 15:02:55|  1572814145|2019-11-03 15:49:05| 793.7694444444444|\n",
      "| 2019-10-01|2019-10-01 06:08:01|  1572781995|2019-11-03 06:53:15| 793.7538888888889|\n",
      "| 2019-10-01|2019-10-01 06:41:17|  1572783964|2019-11-03 07:26:04| 793.7463888888889|\n",
      "+-----------+-------------------+------------+-------------------+------------------+\n",
      "only showing top 20 rows\n",
      "\n"
     ]
    }
   ],
   "source": [
    " df\\\n",
    "    .withColumn('dropOff_time', F.unix_timestamp('dropOff_datetime')) \\\n",
    "    .withColumn('pickup_time', F.unix_timestamp('pickup_datetime')) \\\n",
    "    .withColumn('pickup_date', F.to_date(df.pickup_datetime)) \\\n",
    "    .withColumn('time_difference', (F.col('dropOff_time') - F.col('pickup_time')) / 3600) \\\n",
    "    .select('pickup_date', 'pickup_datetime', 'dropOff_time', 'dropOff_datetime', 'time_difference') \\\n",
    "    .orderBy(F.desc('time_difference')) \\\n",
    "    .show()\n"
   ]
  },
  {
   "cell_type": "code",
   "execution_count": 90,
   "id": "ae55fbb8-f030-4ca3-8d86-98ddaf4d71d8",
   "metadata": {},
   "outputs": [
    {
     "name": "stdout",
     "output_type": "stream",
     "text": [
      "+------------+-----+\n",
      "|PUlocationID|count|\n",
      "+------------+-----+\n",
      "|           2|    1|\n",
      "|         105|    2|\n",
      "|         111|    5|\n",
      "|          30|    8|\n",
      "|         120|   14|\n",
      "|          12|   15|\n",
      "|         207|   23|\n",
      "|          27|   25|\n",
      "|         154|   26|\n",
      "|           8|   29|\n",
      "|         128|   39|\n",
      "|         253|   47|\n",
      "|          96|   53|\n",
      "|          34|   57|\n",
      "|          59|   62|\n",
      "|          58|   77|\n",
      "|          99|   89|\n",
      "|         190|   98|\n",
      "|          54|  105|\n",
      "|         217|  110|\n",
      "+------------+-----+\n",
      "only showing top 20 rows\n",
      "\n"
     ]
    }
   ],
   "source": [
    "\n",
    "\n",
    "df.select('PUlocationID') \\\n",
    "    .groupby('PUlocationID') \\\n",
    "    .count() \\\n",
    "    .orderBy(asc('count')) \\\n",
    "    .show()\n",
    "\n"
   ]
  }
 ],
 "metadata": {
  "kernelspec": {
   "display_name": "Python 3 (ipykernel)",
   "language": "python",
   "name": "python3"
  },
  "language_info": {
   "codemirror_mode": {
    "name": "ipython",
    "version": 3
   },
   "file_extension": ".py",
   "mimetype": "text/x-python",
   "name": "python",
   "nbconvert_exporter": "python",
   "pygments_lexer": "ipython3",
   "version": "3.9.18"
  }
 },
 "nbformat": 4,
 "nbformat_minor": 5
}
